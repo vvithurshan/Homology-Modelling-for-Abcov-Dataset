{
  "cells": [
    {
      "cell_type": "markdown",
      "metadata": {
        "id": "view-in-github",
        "colab_type": "text"
      },
      "source": [
        "<a href=\"https://colab.research.google.com/github/vvithurshan/Homology-Modelling-for-Abcov-Dataset/blob/main/mutation_trial.ipynb\" target=\"_parent\"><img src=\"https://colab.research.google.com/assets/colab-badge.svg\" alt=\"Open In Colab\"/></a>"
      ]
    },
    {
      "cell_type": "code",
      "execution_count": null,
      "metadata": {
        "id": "BqplIu5e_DqL"
      },
      "outputs": [],
      "source": [
        "import pandas as pd"
      ]
    },
    {
      "cell_type": "code",
      "execution_count": null,
      "metadata": {
        "id": "crEOvnugKo65"
      },
      "outputs": [],
      "source": [
        "!pip install mdtraj\n",
        "!pip install MDAnalysis"
      ]
    },
    {
      "cell_type": "code",
      "execution_count": null,
      "metadata": {
        "id": "iniK705K_UzK"
      },
      "outputs": [],
      "source": [
        "df = pd.read_csv(\"./FYP_summarized_Dataset - AB-Bind.csv\")"
      ]
    },
    {
      "cell_type": "code",
      "execution_count": null,
      "metadata": {
        "id": "jb_CvnRJ_jzS"
      },
      "outputs": [],
      "source": [
        "# df.head()"
      ]
    },
    {
      "cell_type": "code",
      "execution_count": null,
      "metadata": {
        "id": "CjvBc6Fc_kza"
      },
      "outputs": [],
      "source": [
        "df = df[['PDB_Complex', 'Partners(A_B)', 'Mutation']]"
      ]
    },
    {
      "cell_type": "code",
      "execution_count": null,
      "metadata": {
        "id": "xOVaOfY5_-tG"
      },
      "outputs": [],
      "source": [
        "df.head()"
      ]
    },
    {
      "cell_type": "code",
      "execution_count": null,
      "metadata": {
        "id": "B_uQwYWDZ07n"
      },
      "outputs": [],
      "source": [
        "import random\n",
        "\n",
        "random.seed(5000)\n",
        "\n",
        "df['Unique_id'] = df['PDB_Complex'].apply(lambda x : x + '_' + str(random.randint(0, 100000)))"
      ]
    },
    {
      "cell_type": "markdown",
      "metadata": {
        "id": "WEiMPXYHVG-H"
      },
      "source": [
        "## Main Program Begins"
      ]
    },
    {
      "cell_type": "code",
      "execution_count": null,
      "metadata": {
        "id": "9GMKzXrXVxXN"
      },
      "outputs": [],
      "source": []
    },
    {
      "cell_type": "code",
      "execution_count": null,
      "metadata": {
        "id": "zNbJPNIGVjeR"
      },
      "outputs": [],
      "source": [
        "# !cd /content\n",
        "!git clone https://github.com/sarahsirin/AB-Bind-Database.git"
      ]
    },
    {
      "cell_type": "code",
      "execution_count": null,
      "metadata": {
        "id": "O8yEvQT514uG"
      },
      "outputs": [],
      "source": [
        "import os\n",
        "import subprocess\n",
        "import MDAnalysis as mda\n",
        "import mdtraj as md\n",
        "import shutil\n",
        "\n",
        "os.chdir(\"/home/vvithurshan/0014/vvarenthirarajah/Documents/ML-Antibody-Antigen-2023/Homology Modeling/march/\")\n",
        "\n",
        "# !rm -rf P001\n",
        "\n",
        "project_name = \"P001\"\n",
        "os.makedirs(project_name)\n",
        "os.chdir(project_name)\n",
        "\n",
        "for pdb in Unique_PDB[:]:\n",
        "\n",
        "  # if '_' in pdb:\n",
        "  #   pdb = pdb.split('_')[1]\n",
        "## create a folder with name pdb - done\n",
        "  os.makedirs(pdb)\n",
        "  os.chdir(pdb)\n",
        "\n",
        "## download pdb - done\n",
        "  def DownloadPDB(code):\n",
        "    # link = \"wget https://files.rcsb.org/download/\" + code + \".pdb\"\n",
        "    os.makedirs('rcsb')\n",
        "    os.chdir('./rcsb')\n",
        "    \n",
        "    source_file = \"/home/vvithurshan/0014/vvarenthirarajah/Documents/ML-Antibody-Antigen-2023/Homology Modeling/march/AB-Bind-Database/\" + code + \".pdb\"\n",
        "    destination_folder = os.getcwd()\n",
        "    shutil.copy(source_file, destination_folder)\n",
        "    # subprocess.check_output(link, shell=True)\n",
        "    os.chdir('../')  \n",
        "  DownloadPDB(pdb)\n",
        "\n",
        "## remove non protein atoms \n",
        "\n",
        "  def RemoveNonProteinAtoms(chains_):\n",
        "    os.makedirs('template')\n",
        "    os.chdir('./template')\n",
        "\n",
        "    input = \"../rcsb/\" + pdb + \".pdb\"\n",
        "    universe = mda.Universe(input)\n",
        "    protein_atoms = universe.select_atoms(\"protein\") \n",
        "\n",
        "    chainsToExt = ' '.join(chains_)\n",
        "\n",
        "## extract only relevant chains\n",
        "    protein_atoms_required_chains = protein_atoms.select_atoms(\"segid \" + chainsToExt)\n",
        "    output = pdb + \"_template.pdb\"\n",
        "## save as a template\n",
        "    protein_atoms_required_chains.write(output)\n",
        "\n",
        "    os.chdir('../')  \n",
        "\n",
        "## store the sequence of the template, in dict form\n",
        "  def TemplateToFasta(chains_, pdb):\n",
        "    u = mda.Universe(\"./template/\" + pdb + \"_template.pdb\")\n",
        "    chainsToFasta = {}\n",
        "    for chain in chains_:\n",
        "      selection = 'protein and segid ' + chain\n",
        "      chain_selection = u.select_atoms(selection)\n",
        "      sequence = chain_selection.residues.sequence()\n",
        "      chainsToFasta[chain] = str(sequence.seq)\n",
        "    # return pd.Series(chainsToFasta)\n",
        "    return chainsToFasta\n",
        "\n",
        "\n",
        "#########\n",
        "  chainsToExtract = df[df['PDB_Complex'] == pdb]['Partners(A_B)']\n",
        "  chains = list(list(chainsToExtract)[0].replace('_',''))\n",
        "\n",
        "  RemoveNonProteinAtoms(chains)\n",
        "##########\n",
        "\n",
        "  for index, data in chainsToExtract.iteritems():\n",
        "    # print(index, data)\n",
        "    df.loc[index, 'Template_Fasta']  = [TemplateToFasta(chains, pdb)]\n",
        "\n",
        "\n",
        "    lst = df[df['PDB_Complex'] == pdb]['Mutation'][index].split(',')\n",
        "    unique_id = df[df['PDB_Complex'] == pdb]['Unique_id'][index]\n",
        "\n",
        "    CreateMutatedPDB(pdb, lst, unique_id)\n",
        "    \n",
        "    df.loc[index,'Mutated_Fasta'] = [MutatedToFasta(pdb, unique_id, chains)]\n",
        "\n",
        "    # being written\n",
        "    # HomologyModeling()\n",
        "\n",
        "  os.chdir('../')  \n",
        "\n",
        "# !cd /content\n",
        "  "
      ]
    },
    {
      "cell_type": "code",
      "execution_count": null,
      "metadata": {
        "id": "dC3XEoqi75MS",
        "scrolled": true
      },
      "outputs": [],
      "source": [
        "pip install mdtraj"
      ]
    },
    {
      "cell_type": "code",
      "execution_count": null,
      "metadata": {
        "id": "2j_M2UMXah2U"
      },
      "outputs": [],
      "source": [
        "### It creates mutated pdb files_hm_false\n",
        "import warnings\n",
        "from Bio.PDB import PDBParser, PPBuilder, Polypeptide, PDBIO\n",
        "\n",
        "def CreateMutatedPDB(pdb, lst, unique_id):\n",
        "  folder = pdb + \"_mutation\"\n",
        "  if not os.path.exists(folder):\n",
        "    os.mkdir(folder)\n",
        "  os.chdir(folder)\n",
        "\n",
        "  # Load template PDB file \n",
        "  parser = PDBParser()\n",
        "  structure = parser.get_structure(pdb, \"../template/{}_template.pdb\".format(pdb))\n",
        "\n",
        "  deletion = 0\n",
        "  e = \"\"\n",
        "  add = False\n",
        "  for i in lst:\n",
        "    print(i)\n",
        "    ## it handles deletion operation\n",
        "    if 'delta' in i:\n",
        "      e += i\n",
        "      add = True\n",
        "    elif add:\n",
        "      e += \",\" + i\n",
        "      print(e)\n",
        "      if add and ')' in i:\n",
        "        add = False\n",
        "        #call deletion\n",
        "        a = e[e.find('('):].replace('(','').replace(')','').split(',')\n",
        "        print(a)\n",
        "        for i in a:\n",
        "          chain_id = i.split(':')[0]\n",
        "          resid_id = int(i.split(':')[1][1:])\n",
        "          print(\"chain_id {} resid_id {}\".format(chain_id, resid_id))\n",
        "          chain_a = structure[0][chain_id]\n",
        "          try:\n",
        "            del chain_a[(\" \", resid_id, \" \")]\n",
        "          except KeyError:\n",
        "             print(\"resid {} is not removed\".format(resid_id))\n",
        "          else:\n",
        "            deletion += 1\n",
        "\n",
        "    else:\n",
        "\n",
        "      I = i.split(':')\n",
        "      mut_from = I[1][0]\n",
        "      chain = I[0]\n",
        "      try:\n",
        "        resid = int(I[1][1:-1]) \n",
        "      except ValueError:\n",
        "        resid = int(I[1][1:-2])\n",
        "        mutation_res = I[1][-1]\n",
        "        print(\"It has unwanted str\")\n",
        "      else:\n",
        "        mutation_res = I[1][-1]\n",
        "\n",
        "      # print(mut_from, chain, resid, mutation_res)\n",
        "      # Find residue to mutate\n",
        "      chain = structure[0][chain]\n",
        "      try:   \n",
        "        residue_id = (\" \", resid, \" \")  \n",
        "        residue = chain[residue_id]\n",
        "      except KeyError:\n",
        "          print(\"Residue {} not found in the structure {}\".format(resid, pdb))\n",
        "          continue\n",
        "\n",
        "      # Mutate residue\n",
        "      warnings.filterwarnings(\"ignore\")\n",
        "      mutated_residue = mutation_res\n",
        "      residue.resname = Polypeptide.one_to_three(mutated_residue) \n",
        "      warnings.filterwarnings(\"default\")\n",
        "  # Write new PDB file\n",
        "  io = PDBIO()\n",
        "  io.set_structure(structure)\n",
        "  output = \"{}_hm_false.pdb\".format(unique_id)\n",
        "  io.save(output)\n",
        "\n",
        "  os.chdir(\"../\")"
      ]
    },
    {
      "cell_type": "code",
      "execution_count": null,
      "metadata": {
        "id": "BDh0q1vGG9PF"
      },
      "outputs": [],
      "source": [
        "## it return the Fasta sequence of mutated pdb_hm_false\n",
        "\n",
        "def MutatedToFasta(pdb ,unique_id, chains_):\n",
        "\n",
        "  u = mda.Universe(\"./\" + pdb + \"_mutation/\" + unique_id + \"_hm_false.pdb\")\n",
        "  chainsToFasta = {}\n",
        "  for chain in chains_:\n",
        "    selection = 'protein and segid ' + chain\n",
        "    chain_selection = u.select_atoms(selection)\n",
        "    sequence = chain_selection.residues.sequence()\n",
        "    chainsToFasta[chain] = str(sequence.seq)\n",
        "  return chainsToFasta\n"
      ]
    }
  ],
  "metadata": {
    "colab": {
      "provenance": [],
      "include_colab_link": true
    },
    "kernelspec": {
      "display_name": "Python 3 (ipykernel)",
      "language": "python",
      "name": "python3"
    },
    "language_info": {
      "codemirror_mode": {
        "name": "ipython",
        "version": 3
      },
      "file_extension": ".py",
      "mimetype": "text/x-python",
      "name": "python",
      "nbconvert_exporter": "python",
      "pygments_lexer": "ipython3",
      "version": "3.9.15"
    }
  },
  "nbformat": 4,
  "nbformat_minor": 0
}