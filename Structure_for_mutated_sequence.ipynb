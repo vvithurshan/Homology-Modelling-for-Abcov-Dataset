{
  "cells": [
    {
      "cell_type": "markdown",
      "metadata": {
        "id": "view-in-github",
        "colab_type": "text"
      },
      "source": [
        "<a href=\"https://colab.research.google.com/github/vvithurshan/Homology-Modelling-for-Abcov-Dataset/blob/main/Structure_for_mutated_sequence.ipynb\" target=\"_parent\"><img src=\"https://colab.research.google.com/assets/colab-badge.svg\" alt=\"Open In Colab\"/></a>"
      ]
    },
    {
      "cell_type": "code",
      "execution_count": null,
      "metadata": {
        "id": "OiIcwchRRY56"
      },
      "outputs": [],
      "source": [
        "# pip install modeller\n",
        "!pip install modeller.automodel\n"
      ]
    },
    {
      "cell_type": "code",
      "execution_count": null,
      "metadata": {
        "id": "63EUXmCQoilh"
      },
      "outputs": [],
      "source": [
        "import pandas as pd\n",
        "from modeller import *\n",
        "from modeller.automodel import *\n",
        "# from modeller.automodel import *    "
      ]
    },
    {
      "cell_type": "code",
      "execution_count": null,
      "metadata": {
        "id": "FUL56e8Wdnf0"
      },
      "outputs": [],
      "source": [
        "ls"
      ]
    },
    {
      "cell_type": "code",
      "execution_count": null,
      "metadata": {
        "id": "ZytB7kW5oPdo",
        "scrolled": true
      },
      "outputs": [],
      "source": [
        "df = pd.read_csv(\"AB-bind_out.csv\")"
      ]
    },
    {
      "cell_type": "code",
      "execution_count": null,
      "metadata": {
        "id": "EhyJWYMXpSNu"
      },
      "outputs": [],
      "source": [
        "df.head()"
      ]
    },
    {
      "cell_type": "code",
      "execution_count": null,
      "metadata": {
        "id": "qh3KXW1pARp6"
      },
      "outputs": [],
      "source": [
        "df = df.drop(columns='Unnamed: 0')"
      ]
    },
    {
      "cell_type": "code",
      "execution_count": null,
      "metadata": {
        "id": "lJd0bfGgofNG"
      },
      "outputs": [],
      "source": [
        "a = df['Template_Fasta'][0]"
      ]
    },
    {
      "cell_type": "code",
      "execution_count": null,
      "metadata": {
        "id": "Og0n8TDB_n2D"
      },
      "outputs": [],
      "source": [
        "dict = eval(a[1:-1])"
      ]
    },
    {
      "cell_type": "code",
      "execution_count": null,
      "metadata": {
        "id": "DD-W73m4TNkt"
      },
      "outputs": [],
      "source": [
        "'/'.join(sorted(dict.values(), reverse=True))"
      ]
    },
    {
      "cell_type": "code",
      "execution_count": null,
      "metadata": {
        "id": "Xg5m1LvH_rfJ"
      },
      "outputs": [],
      "source": [
        "for i in sorted(dict, reverse=False):\n",
        "  print(i,\":\", dict[i])"
      ]
    },
    {
      "cell_type": "code",
      "execution_count": null,
      "metadata": {
        "id": "PveuFp5U65p1"
      },
      "outputs": [],
      "source": [
        "import os\n",
        "import shutil\n",
        "import pandas as pd\n",
        "import subprocess\n",
        "from Bio import pairwise2\n",
        "\n",
        "\n",
        "def ChangeDir(PDB, Unique_id):\n",
        "  if not os.path.exists(PDB):\n",
        "    os.makedirs(PDB)\n",
        "\n",
        "  os.chdir(PDB)\n",
        "\n",
        "  if not os.path.exists(\"Homology_Modelling\"):\n",
        "    os.makedirs(\"Homology_Modelling\")\n",
        "  \n",
        "  os.chdir(\"Homology_Modelling\")\n",
        "\n",
        "  if not os.path.exists(\"Modeller_test\"):\n",
        "    os.makedirs(\"Modeller_test\")\n",
        "\n",
        "  os.chdir(\"Modeller_test\")\n",
        "\n",
        "  if not os.path.exists(Unique_id):\n",
        "    ## raise error\n",
        "    os.makedirs(Unique_id)\n",
        "  if not os.path.exists(Unique_id):\n",
        "    os.makedirs(Unique_id)\n",
        "  os.chdir(Unique_id)\n",
        "\n",
        "def SequenceWrite(TemplateFasta, MutatedFasta, PDB):\n",
        "  ## getting chains in a proper order\n",
        "  template_name = \"{}_template.pdb\".format(PDB)\n",
        "  template_path = \"../../../template/\" + template_name\n",
        "    \n",
        "  u = mda.Universe(template_path)\n",
        "  chain_ids = [i.segid for i in u.segments]\n",
        "    \n",
        "  ###\n",
        "  temp = eval(TemplateFasta[1:-1])\n",
        "  TemplateFasta = '/'.join([temp[i] for i in chain_ids])\n",
        "\n",
        "  mutated = eval(MutatedFasta[1:-1])\n",
        "  MutatedFasta = '/'.join([mutated[i] for i in chain_ids])\n",
        "    \n",
        "  alignments = pairwise2.align.globalxx(TemplateFasta, MutatedFasta)\n",
        "\n",
        "  TemplateFasta = alignments[0].seqA\n",
        "  MutatedFasta = alignments[0].seqB\n",
        "  \n",
        "\n",
        "  with open(\"sequence.ali\", \"w\") as fp:\n",
        "    fp.write(\">P1;complex_seq\\n\")\n",
        "    fp.write(\"sequence::.:.:.:.::::\\n\")\n",
        "    fp.write(MutatedFasta + \"*\\n\")\n",
        "    temp = \"{}_template.pdb\".format(PDB)\n",
        "    fp.write(f\">P1;\" +temp + \"\\n\")\n",
        "    fp.write(f\"structure:\" + temp + \":FIRST:@:LAST:.::::\\n\")\n",
        "    fp.write(TemplateFasta+\"*\\n\")\n",
        "\n",
        "def Modeller(PDB, Unique_id):\n",
        "  template_name = \"{}_template.pdb\".format(PDB)\n",
        "  template_path = \"../../../template/\" + template_name\n",
        "    \n",
        "  \n",
        "  if os.path.isfile(template_path):\n",
        "    pass\n",
        "  else:\n",
        "      raise ValueError(\n",
        "          'Impossible to find template file %s' % (PDB))\n",
        "  shutil.copy(template_path, os.getcwd())\n",
        "\n",
        "  ## modeller \n",
        "  env = environ()\n",
        "          \n",
        "  a = automodel(env, alnfile='sequence.ali',\n",
        "                knowns= template_name, sequence='complex_seq')\n",
        "\n",
        "  a.starting_model = 0\n",
        "  a.ending_model = 0\n",
        "#   a.auto_align()\n",
        "\n",
        "#   a.md_level = modeller.automodel.refine.slow\n",
        "  a.md_level = None\n",
        "#   a.repeat_optimization = 2\n",
        "#   a.md_level = refine.slow\n",
        "#   a.max_var_iterations = 300\n",
        "  # a.repeat_optimization = 2\n",
        "#   a.max_molpdf = 1e6\n",
        "  a.make()\n",
        "\n",
        "  output = \"{}.pdb\".format(Unique_id)\n",
        "  shutil.copy(\"complex_seq.B99990000.pdb\", output)\n",
        "\n",
        "  filename = output\n",
        "  name = 'vvithurshan'\n",
        "  new_name = 'V _VITHURSHAN'\n",
        "\n",
        "  subprocess.run(['sed', '-i', f's/{name}/{new_name}/g', filename])\n",
        "  \n",
        "#   storing_location = '/home/vvithurshan/0014/vvarenthirarajah/Documents/ML-Antibody-Antigen-2023/Homology Modeling/march/P001/AB_Bind_HM_PDB_files'\n",
        "  storing_location = '/home/vvithurshan/0014/vvarenthirarajah/Documents/ML-Antibody-Antigen-2023/Homology Modeling/march/P001/AB_Bind_HM_PDB_files_test'\n",
        "  shutil.copy(output, storing_location)\n",
        "\n",
        "  return 0\n",
        "\n",
        "def main(row):\n",
        "  ## Data extraction\n",
        "  Unique_id = row['Unique_id']\n",
        "  PDB = row['PDB_Complex']\n",
        "  TemplateFasta = row['Template_Fasta']\n",
        "  MutatedFasta = row['Mutated_Fasta']\n",
        "\n",
        " ## Go into the Unique_id dir\n",
        "  ChangeDir(PDB, Unique_id)\n",
        "\n",
        "  ## Write the sequence\n",
        "  SequenceWrite(TemplateFasta, MutatedFasta, PDB)\n",
        "\n",
        "  Modeller(PDB, Unique_id)\n",
        "\n",
        "if __name__ == \"__main__\":\n",
        "  ## load the dataset\n",
        "\n",
        "  root_dir = \"/home/vvithurshan/0014/vvarenthirarajah/Documents/ML-Antibody-Antigen-2023/Homology Modeling/march/\"\n",
        "  root_proj = \"/home/vvithurshan/0014/vvarenthirarajah/Documents/ML-Antibody-Antigen-2023/Homology Modeling/march/P001\"\n",
        "    \n",
        "  os.chdir(root_dir)\n",
        "  df = pd.read_csv(\"AB-bind_out.csv\")\n",
        "  \n",
        "#   if not os.path.exists(root_proj):\n",
        "#     os.makedirs(root_proj)\n",
        "  os.chdir(root_proj)\n",
        "\n",
        "  for index, row in df.iterrows():\n",
        "    os.chdir(root_proj)\n",
        "    print(index)\n",
        "    main(row)\n",
        "#     if index == 2:\n",
        "#         break\n",
        "  os.chdir(root_dir)"
      ]
    },
    {
      "cell_type": "code",
      "execution_count": null,
      "metadata": {
        "id": "F-K3O7jhH0ZJ"
      },
      "outputs": [],
      "source": [
        "!rm -rf /content/Project_001/"
      ]
    },
    {
      "cell_type": "code",
      "execution_count": null,
      "metadata": {
        "id": "GGTOn8cvTyfe"
      },
      "outputs": [],
      "source": [
        "import MDAnalysis as mda\n",
        " \n",
        "pdb_path = \"/home/vvithurshan/0014/vvarenthirarajah/Documents/ML-Antibody-Antigen-2023/Homology Modeling/march/P001/1DQJ/Homology_Modelling/Modeller/1DQJ_23915/1DQJ_template.pdb\"\n",
        "    \n",
        "u = mda.Universe(pdb_path)\n",
        "chain_ids = [i.segid for i in u.segments]\n",
        "chain_ids"
      ]
    },
    {
      "cell_type": "code",
      "execution_count": null,
      "metadata": {
        "id": "2ouf0EPOdnf8"
      },
      "outputs": [],
      "source": []
    }
  ],
  "metadata": {
    "colab": {
      "provenance": [],
      "include_colab_link": true
    },
    "kernelspec": {
      "display_name": "Python 3 (ipykernel)",
      "language": "python",
      "name": "python3"
    },
    "language_info": {
      "codemirror_mode": {
        "name": "ipython",
        "version": 3
      },
      "file_extension": ".py",
      "mimetype": "text/x-python",
      "name": "python",
      "nbconvert_exporter": "python",
      "pygments_lexer": "ipython3",
      "version": "3.9.15"
    }
  },
  "nbformat": 4,
  "nbformat_minor": 0
}